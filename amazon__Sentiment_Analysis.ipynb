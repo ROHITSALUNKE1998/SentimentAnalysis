{
  "nbformat": 4,
  "nbformat_minor": 0,
  "metadata": {
    "colab": {
      "name": "amazon _Sentiment_Analysis.ipynb",
      "provenance": [],
      "authorship_tag": "ABX9TyN7Wu6r7vAtiC4EyBaNsJNw",
      "include_colab_link": true
    },
    "kernelspec": {
      "name": "python3",
      "display_name": "Python 3"
    },
    "language_info": {
      "name": "python"
    }
  },
  "cells": [
    {
      "cell_type": "markdown",
      "metadata": {
        "id": "view-in-github",
        "colab_type": "text"
      },
      "source": [
        "<a href=\"https://colab.research.google.com/github/ROHITSALUNKE1998/SentimentAnalysis/blob/main/amazon__Sentiment_Analysis.ipynb\" target=\"_parent\"><img src=\"https://colab.research.google.com/assets/colab-badge.svg\" alt=\"Open In Colab\"/></a>"
      ]
    },
    {
      "cell_type": "code",
      "metadata": {
        "id": "hDiqouuxJTeO"
      },
      "source": [
        "from selenium import webdriver\n",
        "import os\n",
        "\n",
        "chrome_options = webdriver.ChromeOptions()\n",
        "chrome_options.binary_location = os.environ.get(\"GOOGLE_CHROME_BIN\")\n",
        "chrome_options.add_argument(\"--headless\")\n",
        "chrome_options.add_argument(\"--disable-dev-shm-usage \")\n",
        "chrome_options.add_argument('--disable-gpu')\n",
        "chrome_options.add_argument('--no-sandbox')\n",
        "driver = webdriver.Chrome(execution_path=os.environ.get(\"CHROMEDRIVER_PATH\"), chrome_options=chrome_options)\n",
        "\n"
      ],
      "execution_count": null,
      "outputs": []
    }
  ]
}